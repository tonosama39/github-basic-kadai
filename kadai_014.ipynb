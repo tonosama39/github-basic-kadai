{
  "nbformat": 4,
  "nbformat_minor": 0,
  "metadata": {
    "colab": {
      "provenance": []
    },
    "kernelspec": {
      "name": "python3",
      "display_name": "Python 3"
    },
    "language_info": {
      "name": "python"
    }
  },
  "cells": [
    {
      "cell_type": "code",
      "execution_count": 3,
      "metadata": {
        "colab": {
          "base_uri": "https://localhost:8080/"
        },
        "id": "qno4woTCs7TD",
        "outputId": "2296d030-7af1-4c17-8b29-164f3845cebe"
      },
      "outputs": [
        {
          "output_type": "stream",
          "name": "stdout",
          "text": [
            "330.0\n"
          ]
        }
      ],
      "source": [
        "price1 = 100\n",
        "price2 = 200\n",
        "tax = 1.1\n",
        "\n",
        "def total():\n",
        "    total = price1 + price2\n",
        "    return total\n",
        "\n",
        "print (total() * tax)"
      ]
    },
    {
      "cell_type": "code",
      "source": [],
      "metadata": {
        "id": "n2sJREA4tPvE"
      },
      "execution_count": null,
      "outputs": []
    }
  ]
}