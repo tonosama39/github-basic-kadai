{
  "nbformat": 4,
  "nbformat_minor": 0,
  "metadata": {
    "colab": {
      "provenance": []
    },
    "kernelspec": {
      "name": "python3",
      "display_name": "Python 3"
    },
    "language_info": {
      "name": "python"
    }
  },
  "cells": [
    {
      "cell_type": "code",
      "execution_count": null,
      "metadata": {
        "id": "5CW08C-MOP34"
      },
      "outputs": [],
      "source": []
    },
    {
      "cell_type": "code",
      "source": [
        "class Human:\n",
        "  def __init__(self,name,age):\n",
        "    self.name = name\n",
        "    self.age = age\n",
        "  def check_adult(self):\n",
        "    if self.age >= 20:\n",
        "      print(f'{self.name}は大人です。')\n",
        "    else:\n",
        "      print(f'{self.name}は大人ではありません。')\n",
        "\n",
        "Taro = Human('太郎',25)\n",
        "Jiro = Human('二郎',20)\n",
        "Saburo = Human('三郎',18)\n",
        "Shiro = Human('四郎',17)\n",
        "Goro = Human('五郎',16)\n",
        "\n",
        "Brother_info = [Taro,Jiro,Saburo,Shiro,Goro]\n",
        "\n",
        "for brother in Brother_info:\n",
        "  brother.check_adult()"
      ],
      "metadata": {
        "colab": {
          "base_uri": "https://localhost:8080/"
        },
        "id": "zz8YucRLQzOp",
        "outputId": "231a6eee-d2cb-4199-dc8e-34b01ecd8673"
      },
      "execution_count": 2,
      "outputs": [
        {
          "output_type": "stream",
          "name": "stdout",
          "text": [
            "太郎は大人です。\n",
            "二郎は大人です。\n",
            "三郎は大人ではありません。\n",
            "四郎は大人ではありません。\n",
            "五郎は大人ではありません。\n"
          ]
        }
      ]
    },
    {
      "cell_type": "code",
      "source": [],
      "metadata": {
        "id": "wD-l3NjaU9y6"
      },
      "execution_count": null,
      "outputs": []
    }
  ]
}