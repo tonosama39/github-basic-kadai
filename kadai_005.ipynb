{
  "nbformat": 4,
  "nbformat_minor": 0,
  "metadata": {
    "colab": {
      "provenance": []
    },
    "kernelspec": {
      "name": "python3",
      "display_name": "Python 3"
    },
    "language_info": {
      "name": "python"
    }
  },
  "cells": [
    {
      "cell_type": "code",
      "execution_count": 4,
      "metadata": {
        "colab": {
          "base_uri": "https://localhost:8080/"
        },
        "id": "_2FQqd8xtlBS",
        "outputId": "83046d62-030b-492c-81d6-ec56dad0a140"
      },
      "outputs": [
        {
          "output_type": "stream",
          "name": "stdout",
          "text": [
            "75.0 cm²\n"
          ]
        }
      ],
      "source": [
        "top = 10\n",
        "bottom = 20\n",
        "height = 5\n",
        "\n",
        "trapezoid = ((top + bottom) / 2) * height\n",
        "print(trapezoid,'cm²')"
      ]
    },
    {
      "cell_type": "code",
      "source": [],
      "metadata": {
        "id": "B0CrOeygullI"
      },
      "execution_count": null,
      "outputs": []
    }
  ]
}