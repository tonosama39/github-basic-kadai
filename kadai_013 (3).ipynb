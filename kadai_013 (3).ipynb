{
  "nbformat": 4,
  "nbformat_minor": 0,
  "metadata": {
    "colab": {
      "provenance": []
    },
    "kernelspec": {
      "name": "python3",
      "display_name": "Python 3"
    },
    "language_info": {
      "name": "python"
    }
  },
  "cells": [
    {
      "cell_type": "code",
      "execution_count": 4,
      "metadata": {
        "colab": {
          "base_uri": "https://localhost:8080/"
        },
        "id": "i0-NQdC9dvvJ",
        "outputId": "65f57d2a-f6b3-4ab3-cbf1-f0199163155c"
      },
      "outputs": [
        {
          "output_type": "execute_result",
          "data": {
            "text/plain": [
              "1320.0"
            ]
          },
          "metadata": {},
          "execution_count": 4
        }
      ],
      "source": [
        "def calculate_tax(product_price,tax = 0.1):\n",
        "  total_price = product_price * (1 + tax)\n",
        "  return total_price\n",
        "\n",
        "calculate_tax(1200)"
      ]
    },
    {
      "cell_type": "code",
      "source": [],
      "metadata": {
        "id": "OMZtIJhZedaE"
      },
      "execution_count": null,
      "outputs": []
    }
  ]
}